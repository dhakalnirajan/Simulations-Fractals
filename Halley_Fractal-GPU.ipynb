{
  "cells": [
    {
      "cell_type": "code",
      "execution_count": null,
      "metadata": {
        "id": "3pEGhgAe-jG-"
      },
      "outputs": [],
      "source": [
        "import torch\n",
        "import numpy as np\n",
        "import matplotlib.pyplot as plt\n",
        "import matplotlib.colors as colors"
      ]
    },
    {
      "cell_type": "code",
      "execution_count": null,
      "metadata": {
        "id": "h1EW8xjc_sk9"
      },
      "outputs": [],
      "source": [
        "assert torch.cuda.is_available()\n",
        "\n",
        "# Move computations to the GPU\n",
        "device = torch.device('cuda')"
      ]
    },
    {
      "cell_type": "code",
      "execution_count": null,
      "metadata": {
        "id": "i-wPUUO__tcJ"
      },
      "outputs": [],
      "source": [
        "p = np.polynomial.Polynomial(np.random.choice([-1., 1., 1.j, -1.j], 30))\n",
        "dp = p.deriv()\n",
        "ddp = dp.deriv()\n",
        "roots = p.roots()"
      ]
    },
    {
      "cell_type": "code",
      "execution_count": null,
      "metadata": {
        "id": "n7MyT_WC_7ko"
      },
      "outputs": [],
      "source": [
        "def halley_method(z):\n",
        "    return z-p(z)/(dp(z) - ddp(z)*p(z)/(2*dp(z))), z"
      ]
    },
    {
      "cell_type": "code",
      "execution_count": null,
      "metadata": {
        "id": "RFl3BMbz_8O8"
      },
      "outputs": [],
      "source": [
        "xmin, xmax, ymin, ymax, xn, yn = -1,1,-1,1,2000,2000\n",
        "X = torch.linspace(xmin, xmax, xn, dtype=torch.float64, device=device)\n",
        "Y = torch.linspace(ymin, ymax, yn, dtype=torch.float64, device=device)\n",
        "eps = 0.00001\n",
        "max_iter = 100"
      ]
    },
    {
      "cell_type": "code",
      "execution_count": null,
      "metadata": {
        "id": "yPOZUuAgACrU"
      },
      "outputs": [],
      "source": [
        "Z = X + Y[:, None]*1j\n",
        "N = torch.zeros(Z.shape, dtype=torch.int32, device=device)\n",
        "for i in range(max_iter):\n",
        "    Z, Z_old = halley_method(Z)\n",
        "    N[torch.abs(Z-Z_old)**2 > eps] += 1"
      ]
    },
    {
      "cell_type": "code",
      "execution_count": null,
      "metadata": {
        "id": "PYHFG5ZAAFkH"
      },
      "outputs": [],
      "source": [
        "# Move the result back to CPU for plotting\n",
        "N_cpu = N.to('cpu')"
      ]
    },
    {
      "cell_type": "code",
      "execution_count": null,
      "metadata": {
        "colab": {
          "base_uri": "https://localhost:8080/",
          "height": 1000
        },
        "id": "I3gUYEPzAGWP",
        "outputId": "5dc822f9-db32-4934-fd01-2072dbdb795b"
      },
      "outputs": [],
      "source": [
        "fig,ax= plt.subplots(figsize=(20,20))\n",
        "ax.imshow(N_cpu, cmap='hot')\n",
        "plt.show()"
      ]
    }
  ],
  "metadata": {
    "accelerator": "GPU",
    "colab": {
      "gpuType": "T4",
      "provenance": []
    },
    "kernelspec": {
      "display_name": "Python 3",
      "name": "python3"
    },
    "language_info": {
      "codemirror_mode": {
        "name": "ipython",
        "version": 3
      },
      "file_extension": ".py",
      "mimetype": "text/x-python",
      "name": "python",
      "nbconvert_exporter": "python",
      "pygments_lexer": "ipython3",
      "version": "3.10.10"
    }
  },
  "nbformat": 4,
  "nbformat_minor": 0
}
